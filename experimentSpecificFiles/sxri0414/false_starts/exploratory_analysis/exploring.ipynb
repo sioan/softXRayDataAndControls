{
 "cells": [
  {
   "cell_type": "markdown",
   "metadata": {},
   "source": [
    "# thorough exploratory analysis"
   ]
  },
  {
   "cell_type": "markdown",
   "metadata": {},
   "source": [
    "thorough analysis. maybe just as simple as storing results so to stop redoing things. this can get messy since there's millions of ways to do analysis. a frame work for organizing analysis code, templating common code, and abstracting away messiness. stated goals\n",
    "\n",
    "1) stop re-doing analysis over and over.  Indexes results so they can be retrieved and compared.\n",
    "\n",
    "2) pipelinable modules. generic interface.\n",
    "\n",
    "3) validate analysis pipelines\n",
    "\n",
    "4) organize analysis pipelines"
   ]
  },
  {
   "cell_type": "markdown",
   "metadata": {},
   "source": [
    "## load libraries"
   ]
  },
  {
   "cell_type": "code",
   "execution_count": 2,
   "metadata": {
    "collapsed": true
   },
   "outputs": [],
   "source": [
    "#saves space here in jupyter notebook. large imports on small screen is cumbersome\n",
    "from my_library import * "
   ]
  },
  {
   "cell_type": "markdown",
   "metadata": {},
   "source": [
    "## load data"
   ]
  },
  {
   "cell_type": "code",
   "execution_count": 3,
   "metadata": {
    "collapsed": true
   },
   "outputs": [],
   "source": [
    "#maybe make this loading streamlined to save space too"
   ]
  },
  {
   "cell_type": "markdown",
   "metadata": {},
   "source": [
    "## pre-processesing"
   ]
  },
  {
   "cell_type": "code",
   "execution_count": null,
   "metadata": {
    "collapsed": true
   },
   "outputs": [],
   "source": []
  },
  {
   "cell_type": "markdown",
   "metadata": {},
   "source": [
    "### masking / filtering? no save that for later."
   ]
  },
  {
   "cell_type": "markdown",
   "metadata": {},
   "source": []
  },
  {
   "cell_type": "markdown",
   "metadata": {},
   "source": [
    "## actual analysis"
   ]
  },
  {
   "cell_type": "markdown",
   "metadata": {},
   "source": [
    "### analysis_piplines. each dict entry is a set of nested dicts that has all the info necessary to execute the analysis"
   ]
  },
  {
   "cell_type": "code",
   "execution_count": null,
   "metadata": {
    "collapsed": true
   },
   "outputs": [],
   "source": [
    "pipe_line_number1 = {}\n",
    "pipe_line_number1['human_readable_description'] = 'paragraph describing procedure and data'\n",
    "pipe_line_number1['data'] = my_array #an nd numpy array or pointer to it. name of hdf5 data and columns to operate on\n",
    "pipe_line_number1['function_and_parameters'] = {}\n",
    "pipe_line_number1['function_and_parameters']['functions'] \n",
    "\n",
    "pipe_line_number2 = {}\n",
    "pipe_line_number2['linear_regression'] = 'standard linear regression of I vs I0'\n",
    "pipe_line_number2['data'] = my_array #an nd numpy array or pointer to it. name of hdf5 data and columns to operate on\n",
    "pipe_line_number2['function_and_parameters'] = {}\n",
    "pipe_line_number2['function_and_parameters']['functions'] \n",
    "\n",
    "pipe_line_number3 = {}\n",
    "pipe_line_number3['robust_linear_regression1'] = ' linear regression of I vs I0 and I0*E with weighting coefficients'\n",
    "pipe_line_number3['data'] = my_array #an nd numpy array or pointer to it. name of hdf5 data and columns to operate on\n",
    "pipe_line_number3['function_and_parameters'] = {}\n",
    "pipe_line_number3['function_and_parameters']['functions'] \n",
    "\n",
    "pipe_line_number4 = {}\n",
    "pipe_line_number4['two_stage_lin_reg'] = ' linear regression with errors in variables'\n",
    "pipe_line_number4['data'] = my_array #an nd numpy array or pointer to it. name of hdf5 data and columns to operate on\n",
    "pipe_line_number4['function_and_parameters'] = {}\n",
    "pipe_line_number4['function_and_parameters']['functions'] \n",
    "\n",
    "pipe_line_number5 = {}\n",
    "pipe_line_number5['two_stage_lin_reg'] = 'iterative linear regression with outliers thrown out in RANSAC fashion'\n",
    "pipe_line_number5['data'] = my_array #an nd numpy array or pointer to it. name of hdf5 data and columns to operate on\n",
    "pipe_line_number5['function_and_parameters'] = {}\n",
    "pipe_line_number5['function_and_parameters']['functions'] \n",
    "\n",
    "\n",
    "\n",
    "\n",
    "analysis_pipelines= {\"method_alias\":pipe_line_number1,}"
   ]
  },
  {
   "cell_type": "code",
   "execution_count": null,
   "metadata": {
    "collapsed": true
   },
   "outputs": [],
   "source": []
  },
  {
   "cell_type": "markdown",
   "metadata": {},
   "source": [
    "#### iterate analysis through all data sets of interest and compare graphs"
   ]
  },
  {
   "cell_type": "code",
   "execution_count": null,
   "metadata": {
    "collapsed": true
   },
   "outputs": [],
   "source": []
  },
  {
   "cell_type": "markdown",
   "metadata": {},
   "source": [
    "#### iterate through all methods (e.g. pca, svd, edf, ica, standard binning) and compare them"
   ]
  },
  {
   "cell_type": "markdown",
   "metadata": {},
   "source": [
    "#### iterate through parameters for all methods above (e.g. bin size, number of independent variables, non linearization effect such as I_0 * E but for all different combinations and higher polynomial orders, filter slices and grouping.)"
   ]
  },
  {
   "cell_type": "code",
   "execution_count": null,
   "metadata": {
    "collapsed": true
   },
   "outputs": [],
   "source": [
    "for i in algorithm_methods:\n",
    "    for j in algorithm_methods['tweakable_parameters']:\n",
    "        my_results[i] = "
   ]
  },
  {
   "cell_type": "markdown",
   "metadata": {},
   "source": [
    "#### optimize the parameters for analysis above. In this case, a combination of minimizing the pre-pulse standard deviation and the ratio of cumulative low to high frequency fourier components whose boundary is determined by the laser/x-ray pulse width."
   ]
  },
  {
   "cell_type": "code",
   "execution_count": null,
   "metadata": {
    "collapsed": true
   },
   "outputs": [],
   "source": [
    "algorithm_methods={'regression':,'svd','ica,'}\n",
    "al_m = algorithm_methods"
   ]
  },
  {
   "cell_type": "code",
   "execution_count": null,
   "metadata": {
    "collapsed": true
   },
   "outputs": [],
   "source": [
    "for i in algorithm_methods:\n",
    "    optimize.minimize(al_m[i]['function'],al_m[i]['data'], al_m[i]['tweakable_parameters']:\n",
    "        my_results[i] = \n",
    "    "
   ]
  },
  {
   "cell_type": "code",
   "execution_count": 5,
   "metadata": {},
   "outputs": [
    {
     "data": {
      "text/plain": [
       "array([ 1.00000002,  1.00000002,  1.00000007,  1.00000015,  1.00000028])"
      ]
     },
     "execution_count": 5,
     "metadata": {},
     "output_type": "execute_result"
    }
   ],
   "source": [
    "from scipy.optimize import minimize, rosen, rosen_der\n",
    "x0 = [1.3, 0.7, 0.8, 1.9, 1.2]\n",
    "res = optimize.minimize(rosen, x0, method='Nelder-Mead', tol=1e-6)\n",
    "res.x"
   ]
  },
  {
   "cell_type": "code",
   "execution_count": 24,
   "metadata": {},
   "outputs": [
    {
     "data": {
      "text/plain": [
       "array([ 1.00000002,  1.00000002,  1.00000007,  1.00000015,  1.00000028])"
      ]
     },
     "execution_count": 24,
     "metadata": {},
     "output_type": "execute_result"
    }
   ],
   "source": [
    "#I can store the data in dictionaries and optimize over every method and it's parameters.\n",
    "x0 = [1.3, 0.7, 0.8, 1.9, 1.2]\n",
    "args =(rosen, x0)\n",
    "kwargs = {'method':'Nelder-Mead', 'tol':1e-6}\n",
    "res = optimize.minimize(*args,**kwargs)\n",
    "res.x"
   ]
  },
  {
   "cell_type": "code",
   "execution_count": 29,
   "metadata": {},
   "outputs": [
    {
     "name": "stdout",
     "output_type": "stream",
     "text": [
      "{'test': 3, 'yaya': 'test'}\n"
     ]
    },
    {
     "data": {
      "text/plain": [
       "'this is a kwarg test'"
      ]
     },
     "execution_count": 29,
     "metadata": {},
     "output_type": "execute_result"
    }
   ],
   "source": [
    "def kwarg_test(*args,**kwargs):\n",
    "    print(kwargs)\n",
    "    return args[0]\n",
    "kwarg_test('this is a kwarg test',test=3,yaya='test')"
   ]
  },
  {
   "cell_type": "code",
   "execution_count": null,
   "metadata": {
    "collapsed": true
   },
   "outputs": [],
   "source": []
  }
 ],
 "metadata": {
  "kernelspec": {
   "display_name": "Python 3",
   "language": "python",
   "name": "python3"
  },
  "language_info": {
   "codemirror_mode": {
    "name": "ipython",
    "version": 3
   },
   "file_extension": ".py",
   "mimetype": "text/x-python",
   "name": "python",
   "nbconvert_exporter": "python",
   "pygments_lexer": "ipython3",
   "version": "3.6.6"
  }
 },
 "nbformat": 4,
 "nbformat_minor": 2
}
